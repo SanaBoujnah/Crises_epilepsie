{
  "cells": [
    {
      "cell_type": "markdown",
      "metadata": {
        "id": "vZy8Y65tsUgH"
      },
      "source": [
        "**Importation des bibliothèques**"
      ]
    },
    {
      "cell_type": "code",
      "source": [],
      "metadata": {
        "id": "w1In4ZmvhdZM"
      },
      "execution_count": null,
      "outputs": []
    },
    {
      "cell_type": "code",
      "execution_count": null,
      "metadata": {
        "colab": {
          "base_uri": "https://localhost:8080/"
        },
        "id": "pPUP0ixTT8aQ",
        "outputId": "736348d1-955a-4d65-9817-1468cc69367c"
      },
      "outputs": [
        {
          "output_type": "stream",
          "name": "stdout",
          "text": [
            "2.8.2\n",
            "1.21.6\n"
          ]
        }
      ],
      "source": [
        "import tensorflow \n",
        "import tensorflow as tf\n",
        "from tensorflow.keras import backend as k\n",
        "from tensorflow.keras.models import Sequential\n",
        "from tensorflow.keras.layers import Dense, Dropout,Conv2D, MaxPooling2D,Flatten,BatchNormalization\n",
        "from sklearn.model_selection import train_test_split\n",
        "from tensorflow.keras import regularizers\n",
        "import numpy\n",
        "\n",
        "from sklearn import preprocessing\n",
        "\n",
        "from tensorflow.keras.callbacks import ModelCheckpoint, LearningRateScheduler\n",
        "\n",
        "\n",
        "import tensorflow as tf\n",
        "print(tf.__version__)\n",
        "\n",
        "import numpy as np\n",
        "print(np.__version__)\n",
        "\n",
        "numpy.random.seed(2)\n",
        "import pandas as pd\n"
      ]
    },
    {
      "cell_type": "markdown",
      "metadata": {
        "id": "3KpxYvPBskP_"
      },
      "source": [
        "**Configurer les GPUs**"
      ]
    },
    {
      "cell_type": "code",
      "execution_count": null,
      "metadata": {
        "id": "2sDRKAUpV6u4"
      },
      "outputs": [],
      "source": [
        "config = tensorflow.compat.v1.ConfigProto()\n",
        "sess = tensorflow.compat.v1.Session(config=config)\n"
      ]
    },
    {
      "cell_type": "markdown",
      "metadata": {
        "id": "j9N-lgkzsu3B"
      },
      "source": [
        "**Importation de la base**"
      ]
    },
    {
      "cell_type": "code",
      "execution_count": null,
      "metadata": {
        "colab": {
          "base_uri": "https://localhost:8080/"
        },
        "id": "bfwTiXMuXDva",
        "outputId": "4a20d928-d102-43ce-e10d-0db9a9d5df96"
      },
      "outputs": [
        {
          "output_type": "stream",
          "name": "stdout",
          "text": [
            "(13623, 7)\n",
            "(13623, 7)\n",
            "(13623, 7, 7, 1)\n"
          ]
        }
      ],
      "source": [
        "ch=\"1\"\n",
        "m=\"5\"\n",
        "dataset_e1= pd.read_csv(\"./stand_norm_e1.txt\",delimiter=\" \",header=None)\n",
        "dataset_e1=numpy.array(dataset_e1,float)\n",
        "\n",
        "X_e1 = dataset_e1[:,(0,1,2,3,4,5,6)]\n",
        "#m=np.max(X_e1)\n",
        "print(X_e1.shape)\n",
        "dataset_e2= pd.read_csv(\"./stand_norm_e2.txt\",delimiter=\" \",header=None)\n",
        "dataset_e2=numpy.array(dataset_e2,float)\n",
        "\n",
        "X_e2 = dataset_e2[:,(0,1,2,3,4,5,6)]\n",
        "#n=np.max(X_e2)\n",
        "#X_e2=X_e2/n\n",
        "print(X_e2.shape)\n",
        "'''normalizing data with MinMaxScaler'''\n",
        "scaler = preprocessing.MinMaxScaler()\n",
        "X_e1_scaled = scaler.fit_transform(X_e1)\n",
        "X_e2_scaled = scaler.fit_transform(X_e2)\n",
        "\n",
        "\n",
        "\n",
        "\n",
        "x_train_test=np.zeros((X_e1_scaled.shape[0],X_e1_scaled.shape[1],X_e2_scaled.shape[1],1))\n",
        "x_train_test[:,0,:,0]=X_e1_scaled\n",
        "x_train_test[:,:,0,0]=X_e2_scaled\n",
        "print(x_train_test.shape)\n",
        "#print(x_test.shape)\n",
        "dataset_output= pd.read_csv(\"./y2_e2.txt\",delimiter=\" \",header=None)\n",
        "dataset_output=numpy.array(dataset_output,float)\n",
        "dataset_output_new= dataset_output.reshape(dataset_output.shape[0], )"
      ]
    },
    {
      "cell_type": "code",
      "execution_count": null,
      "metadata": {
        "id": "T6XQ5cYgewbh"
      },
      "outputs": [],
      "source": [
        "for i in range (0, len(dataset_output_new)):\n",
        "    print(dataset_output_new[i])"
      ]
    },
    {
      "cell_type": "markdown",
      "metadata": {
        "id": "coCWpugis3xo"
      },
      "source": [
        "**Répartition entre l'apprentissage et test**"
      ]
    },
    {
      "cell_type": "code",
      "execution_count": null,
      "metadata": {
        "id": "_PnvFwYkYNTU"
      },
      "outputs": [],
      "source": [
        "from sklearn.model_selection import train_test_split\n",
        "x_train, x_test, y_train, y_test = train_test_split(x_train_test, dataset_output_new, test_size=0.10, random_state=45)"
      ]
    },
    {
      "cell_type": "code",
      "source": [
        "x_train_new=x_train\n",
        "x_test_new=x_test"
      ],
      "metadata": {
        "id": "BlioLus1Mlru"
      },
      "execution_count": null,
      "outputs": []
    },
    {
      "cell_type": "markdown",
      "metadata": {
        "id": "yiJy0EoltJ1L"
      },
      "source": [
        "**Préparation des sorties du modèle**"
      ]
    },
    {
      "cell_type": "code",
      "execution_count": null,
      "metadata": {
        "id": "6xvAiyJEYjYB",
        "colab": {
          "base_uri": "https://localhost:8080/"
        },
        "outputId": "6c5784f4-0d45-4d78-ddc7-7eafe107cebe"
      },
      "outputs": [
        {
          "output_type": "stream",
          "name": "stdout",
          "text": [
            "(12260,)\n",
            "(12260, 2)\n"
          ]
        }
      ],
      "source": [
        "\n",
        "print(y_train.shape)\n",
        "\n",
        "Y_train_new = tensorflow.keras.utils.to_categorical( y_train)\n",
        "Y_test_new = tensorflow.keras.utils.to_categorical(y_test)\n",
        "print(Y_train_new.shape)"
      ]
    },
    {
      "cell_type": "code",
      "execution_count": null,
      "metadata": {
        "id": "fbU0MxfC4eJf",
        "colab": {
          "base_uri": "https://localhost:8080/"
        },
        "outputId": "265acb9a-0037-410f-cee4-6205960d3b00"
      },
      "outputs": [
        {
          "output_type": "stream",
          "name": "stdout",
          "text": [
            "[0. 0. 0. ... 0. 0. 0.]\n"
          ]
        }
      ],
      "source": [
        "print(y_test)"
      ]
    },
    {
      "cell_type": "markdown",
      "metadata": {
        "id": "qKmwmgbutObe"
      },
      "source": [
        "**Préparation des entrées du modèle**"
      ]
    },
    {
      "cell_type": "code",
      "execution_count": null,
      "metadata": {
        "id": "NGWS5nbAYpHI",
        "colab": {
          "base_uri": "https://localhost:8080/"
        },
        "outputId": "8a3244df-8065-4e25-8901-5ecde2af6424"
      },
      "outputs": [
        {
          "output_type": "stream",
          "name": "stdout",
          "text": [
            "(12260, 7, 7, 1)\n",
            "(12260, 7, 7, 1)\n"
          ]
        }
      ],
      "source": [
        "print (x_train_new.shape)\n",
        "x_train_new=x_train_new.reshape(x_train_new.shape[0], 7,7, 1)\n",
        "x_test_new = x_test_new.reshape(x_test_new.shape[0], 7,7,1 )\n",
        "print (x_train_new.shape)"
      ]
    },
    {
      "cell_type": "markdown",
      "metadata": {
        "id": "fDcfBrjptSH0"
      },
      "source": [
        "**Construction du modèle**"
      ]
    },
    {
      "cell_type": "code",
      "execution_count": null,
      "metadata": {
        "id": "k1WdZkYqYtlb"
      },
      "outputs": [],
      "source": [
        "model = Sequential()\n",
        "model.add(Conv2D(64, kernel_size=(2,2),\n",
        "                 activation='relu',data_format=\"channels_last\",padding='same',\n",
        "                 input_shape=(7,7,1)))\n",
        "model.add(BatchNormalization())\n",
        "model.add(Conv2D(128, (2,2), activation='relu',padding='same'))\n",
        "\n",
        "model.add(BatchNormalization())\n",
        "\n",
        "model.add(Conv2D(256, (2,2), activation='relu',padding='same'))\n",
        "model.add(MaxPooling2D(pool_size=(2,2),strides=True))\n",
        "model.add(Dropout(0.3))#0.3\n",
        "\n",
        "model.add(Conv2D(512, (2,2), activation='relu',padding='same'))\n",
        "model.add(MaxPooling2D(pool_size=(2,2),strides=True))\n",
        "model.add(Dropout(0.3))#0.3\n",
        "\"\"\"\n",
        "model.add(Conv2D(512, (2,2), activation='relu',padding='same'))\n",
        "model.add(MaxPooling2D(pool_size=(2,2),strides=True))\n",
        "model.add(Dropout(0.4))#0.3\n",
        "\"\"\"\n",
        "\"\"\"\n",
        "model.add(Conv2D(1024, (3,3), activation='relu',padding='same'))\n",
        "model.add(MaxPooling2D(pool_size=(2,2),strides=None))\n",
        "model.add(Dropout(0.4))#0.4\n",
        "\n",
        "\"\"\"\n",
        "\n",
        "\n",
        "\n",
        "model.add(Flatten()) # Flatten is the input layer of the Fully Connected\n",
        "\n",
        "\n",
        "model.add(Dense(100, activation='relu')) # 100 \n",
        "model.add(BatchNormalization())\n",
        "model.add(Dropout(0.4))#0.4\n",
        "\"\"\"\n",
        "model.add(Dense(200, activation='relu')) # 100 \n",
        "model.add(BatchNormalization())\n",
        "model.add(Dropout(0.5))#0.4\n",
        "\"\"\"\n",
        "#model.add(Dense(2, activation='softmax'))\n",
        "model.add(Dense(2, activation='softmax',kernel_regularizer=regularizers.l2(0.001)))\n",
        "model.compile(loss=tensorflow.keras.losses.categorical_crossentropy,\n",
        "              optimizer=tensorflow.keras.optimizers.Adam(),\n",
        "              metrics=[\"accuracy\", tf.keras.metrics.Precision(), tf.keras.metrics.Recall()])"
      ]
    },
    {
      "cell_type": "code",
      "execution_count": null,
      "metadata": {
        "id": "uWtyc6X9nFHg",
        "colab": {
          "base_uri": "https://localhost:8080/"
        },
        "outputId": "32ac0e52-c49b-4c48-87c9-cbfce7831daa"
      },
      "outputs": [
        {
          "output_type": "stream",
          "name": "stdout",
          "text": [
            "Model: \"sequential_1\"\n",
            "_________________________________________________________________\n",
            " Layer (type)                Output Shape              Param #   \n",
            "=================================================================\n",
            " conv2d_4 (Conv2D)           (None, 7, 7, 64)          320       \n",
            "                                                                 \n",
            " batch_normalization_3 (Batc  (None, 7, 7, 64)         256       \n",
            " hNormalization)                                                 \n",
            "                                                                 \n",
            " conv2d_5 (Conv2D)           (None, 7, 7, 128)         32896     \n",
            "                                                                 \n",
            " batch_normalization_4 (Batc  (None, 7, 7, 128)        512       \n",
            " hNormalization)                                                 \n",
            "                                                                 \n",
            " conv2d_6 (Conv2D)           (None, 7, 7, 256)         131328    \n",
            "                                                                 \n",
            " max_pooling2d_2 (MaxPooling  (None, 6, 6, 256)        0         \n",
            " 2D)                                                             \n",
            "                                                                 \n",
            " dropout_3 (Dropout)         (None, 6, 6, 256)         0         \n",
            "                                                                 \n",
            " conv2d_7 (Conv2D)           (None, 6, 6, 512)         524800    \n",
            "                                                                 \n",
            " max_pooling2d_3 (MaxPooling  (None, 5, 5, 512)        0         \n",
            " 2D)                                                             \n",
            "                                                                 \n",
            " dropout_4 (Dropout)         (None, 5, 5, 512)         0         \n",
            "                                                                 \n",
            " flatten_1 (Flatten)         (None, 12800)             0         \n",
            "                                                                 \n",
            " dense_2 (Dense)             (None, 100)               1280100   \n",
            "                                                                 \n",
            " batch_normalization_5 (Batc  (None, 100)              400       \n",
            " hNormalization)                                                 \n",
            "                                                                 \n",
            " dropout_5 (Dropout)         (None, 100)               0         \n",
            "                                                                 \n",
            " dense_3 (Dense)             (None, 2)                 202       \n",
            "                                                                 \n",
            "=================================================================\n",
            "Total params: 1,970,814\n",
            "Trainable params: 1,970,230\n",
            "Non-trainable params: 584\n",
            "_________________________________________________________________\n"
          ]
        }
      ],
      "source": [
        "model.summary()"
      ]
    },
    {
      "cell_type": "code",
      "execution_count": null,
      "metadata": {
        "id": "2h8KJgob5sXM"
      },
      "outputs": [],
      "source": [
        "#model.load_weights('./'+'weights_cnn2_t1.h5')"
      ]
    },
    {
      "cell_type": "code",
      "execution_count": null,
      "metadata": {
        "id": "pqI-tGLaEaM5",
        "colab": {
          "base_uri": "https://localhost:8080/",
          "height": 158
        },
        "outputId": "3add9dfe-4cfe-4956-d892-3473f5ba5b3c"
      },
      "outputs": [
        {
          "output_type": "execute_result",
          "data": {
            "text/plain": [
              "'initial_model = Sequential(\\n    [\\n        Conv1D(32, kernel_size=3,\\n                 activation=\\'relu\\',data_format=\"channels_last\",padding=\\'same\\',\\n                 input_shape=(7,2)),\\n        \\n        \\n        #train_dataset = train_dataset.shuffle(buffer_size=1024).batch(batch_size)\\n \\n        \\n        Conv1D(64, 3, activation=\\'relu\\',padding=\\'same\\'),\\n        MaxPooling1D(pool_size=2,strides=None),\\n        Dropout(0.4),\\n        #Conv1D(128, 3, activation=\\'relu\\',padding=\\'same\\'),\\n        #MaxPooling1D(pool_size=2,strides=None),\\n        #Dropout(0.5),\\n        #Conv1D(256, 3, activation=\\'relu\\',padding=\\'same\\'),\\n        #MaxPooling1D(pool_size=2,strides=None),\\n        #Dropout(0.5),\\n        \\n        Conv1D(512, 3, activation=\\'relu\\',padding=\\'same\\'),\\n        MaxPooling1D(pool_size=2,strides=None),\\n        #Dropout(0.1),\\n        Flatten(),\\n        Dense(100, activation=\\'relu\\'),\\n        Dropout(0.2),\\n        Dense(5, activation=\\'relu\\'),\\n        #Dropout(0.5),\\n        Dense(2, activation=\\'softmax\\'),\\n\\n\\n    ]\\n)\\nfeature_extractor = tensorflow.keras.Model(\\n    inputs=initial_model.inputs,\\n    outputs=[layer.output for layer in initial_model.layers],)\\n    \\ninitial_model.compile(loss=tensorflow.keras.losses.categorical_crossentropy,optimizer=tensorflow.keras.optimizers.Adam(),metrics=[\\'accuracy\\']) \\n              \\ninitial_model.summary()\\n'"
            ],
            "application/vnd.google.colaboratory.intrinsic+json": {
              "type": "string"
            }
          },
          "metadata": {},
          "execution_count": 62
        }
      ],
      "source": [
        "\n",
        "\"\"\"initial_model = Sequential(\n",
        "    [\n",
        "        Conv1D(32, kernel_size=3,\n",
        "                 activation='relu',data_format=\"channels_last\",padding='same',\n",
        "                 input_shape=(7,2)),\n",
        "        \n",
        "        \n",
        "        #train_dataset = train_dataset.shuffle(buffer_size=1024).batch(batch_size)\n",
        " \n",
        "        \n",
        "        Conv1D(64, 3, activation='relu',padding='same'),\n",
        "        MaxPooling1D(pool_size=2,strides=None),\n",
        "        Dropout(0.4),\n",
        "        #Conv1D(128, 3, activation='relu',padding='same'),\n",
        "        #MaxPooling1D(pool_size=2,strides=None),\n",
        "        #Dropout(0.5),\n",
        "        #Conv1D(256, 3, activation='relu',padding='same'),\n",
        "        #MaxPooling1D(pool_size=2,strides=None),\n",
        "        #Dropout(0.5),\n",
        "        \n",
        "        Conv1D(512, 3, activation='relu',padding='same'),\n",
        "        MaxPooling1D(pool_size=2,strides=None),\n",
        "        #Dropout(0.1),\n",
        "        Flatten(),\n",
        "        Dense(100, activation='relu'),\n",
        "        Dropout(0.2),\n",
        "        Dense(5, activation='relu'),\n",
        "        #Dropout(0.5),\n",
        "        Dense(2, activation='softmax'),\n",
        "\n",
        "\n",
        "    ]\n",
        ")\n",
        "feature_extractor = tensorflow.keras.Model(\n",
        "    inputs=initial_model.inputs,\n",
        "    outputs=[layer.output for layer in initial_model.layers],)\n",
        "    \n",
        "initial_model.compile(loss=tensorflow.keras.losses.categorical_crossentropy,optimizer=tensorflow.keras.optimizers.Adam(),metrics=['accuracy']) \n",
        "              \n",
        "initial_model.summary()\n",
        "\"\"\""
      ]
    },
    {
      "cell_type": "code",
      "execution_count": null,
      "metadata": {
        "id": "FLtzwUvXEcY_",
        "colab": {
          "base_uri": "https://localhost:8080/",
          "height": 70
        },
        "outputId": "8e5529f4-1964-4f06-914e-feed3225d08d"
      },
      "outputs": [
        {
          "output_type": "execute_result",
          "data": {
            "text/plain": [
              "\"checkpointer = ModelCheckpoint(filepath='./'+'_best_weights.h5', verbose=1, monitor='val_loss', mode='auto', save_best_only=True) #save at each epoch if the validation decreased\\n\\nhistory =initial_model.fit(x_train_new, Y_train_new, epochs=100, batch_size=512, verbose=1, validation_split=0.15, callbacks=[checkpointer])\\n\\ninitial_model.save('weights_cnn2_t1.h5')\\n\""
            ],
            "application/vnd.google.colaboratory.intrinsic+json": {
              "type": "string"
            }
          },
          "metadata": {},
          "execution_count": 63
        }
      ],
      "source": [
        "\"\"\"checkpointer = ModelCheckpoint(filepath='./'+'_best_weights.h5', verbose=1, monitor='val_loss', mode='auto', save_best_only=True) #save at each epoch if the validation decreased\n",
        "\n",
        "history =initial_model.fit(x_train_new, Y_train_new, epochs=100, batch_size=512, verbose=1, validation_split=0.15, callbacks=[checkpointer])\n",
        "\n",
        "initial_model.save('weights_cnn2_t1.h5')\n",
        "\"\"\""
      ]
    },
    {
      "cell_type": "markdown",
      "metadata": {
        "id": "1H0zXxANtW_O"
      },
      "source": [
        "**Effectuer l'apprentissage**"
      ]
    },
    {
      "cell_type": "code",
      "execution_count": null,
      "metadata": {
        "id": "RAy_wUN3Y2TX"
      },
      "outputs": [],
      "source": [
        "checkpointer = ModelCheckpoint(filepath='./'+'_best_weights.h5', verbose=1, monitor='val_loss', mode='auto', save_best_only=True) #save at each epoch if the validation decreased\n",
        "\n",
        "history =model.fit(x_train_new, Y_train_new, epochs=350, batch_size=1024, verbose=1, validation_split=0.1, callbacks=[checkpointer])\n",
        "\n",
        "model.save('weights_cnn2_t1.h5')"
      ]
    },
    {
      "cell_type": "markdown",
      "metadata": {
        "id": "QSjYyMOIthHx"
      },
      "source": [
        "**Evalutations**"
      ]
    },
    {
      "cell_type": "code",
      "execution_count": null,
      "metadata": {
        "id": "j0b8bFSIZGES",
        "colab": {
          "base_uri": "https://localhost:8080/"
        },
        "outputId": "e9e019a4-5abe-496d-86f6-83aacc387f48"
      },
      "outputs": [
        {
          "output_type": "stream",
          "name": "stdout",
          "text": [
            "43/43 [==============================] - 0s 8ms/step - loss: 0.0967 - accuracy: 0.9773 - precision_1: 0.9773 - recall_1: 0.9773\n",
            "[0.09666824340820312, 0.9772560596466064, 0.9772560596466064, 0.9772560596466064]\n"
          ]
        }
      ],
      "source": [
        "\n",
        "score = model.evaluate(x_test_new, Y_test_new, verbose=1)\n",
        "#print('Test loss:', score[0])\n",
        "#print('Test accuracy:', score[1])\n",
        "print (score)"
      ]
    },
    {
      "cell_type": "code",
      "execution_count": null,
      "metadata": {
        "id": "AHmv-wR1ZJQ6",
        "colab": {
          "base_uri": "https://localhost:8080/"
        },
        "outputId": "e61a8b7e-9fa0-464e-f8bc-1f418d65c692"
      },
      "outputs": [
        {
          "output_type": "display_data",
          "data": {
            "text/plain": [
              "<Figure size 432x288 with 1 Axes>"
            ],
            "image/png": "[encoded data removed]"
          },
          "metadata": {
            "needs_background": "light"
          }
        }
      ],
      "source": [
        "import matplotlib.pyplot as plt # shorcut for a plot function\n",
        "plt.plot(history.history['accuracy']) # training accuracy\n",
        "plt.plot(history.history['val_accuracy']) # validation accuracy\n",
        "plt.title('model accuracy')\n",
        "plt.ylabel('accuracy')\n",
        "plt.xlabel('epoch')\n",
        "plt.legend(['train', 'test'], loc='upper left')\n",
        "plt.show()"
      ]
    },
    {
      "cell_type": "code",
      "execution_count": null,
      "metadata": {
        "id": "JsuHy4BmZO43",
        "colab": {
          "base_uri": "https://localhost:8080/"
        },
        "outputId": "8711ab50-9daa-48fe-fbcc-004e12c099b6"
      },
      "outputs": [
        {
          "output_type": "display_data",
          "data": {
            "text/plain": [
              "<Figure size 432x288 with 1 Axes>"
            ],
            "image/png": "[encoded data removed]"
          },
          "metadata": {
            "needs_background": "light"
          }
        }
      ],
      "source": [
        "plt.plot(history.history['loss'])\n",
        "plt.plot(history.history['val_loss'])\n",
        "plt.title('model loss')\n",
        "plt.ylabel('loss')\n",
        "plt.xlabel('epoch')\n",
        "plt.legend(['train', 'test'], loc='upper left')\n",
        "plt.show()"
      ]
    },
    {
      "cell_type": "code",
      "execution_count": null,
      "metadata": {
        "id": "2hh3lutSZUWO",
        "colab": {
          "base_uri": "https://localhost:8080/"
        },
        "outputId": "79d4ea80-5d04-45e2-b555-bb053f234467"
      },
      "outputs": [
        {
          "output_type": "stream",
          "name": "stdout",
          "text": [
            "43/43 [==============================] - 0s 3ms/step\n",
            "predicted images size : (1363, 2)\n",
            "[[9.9992824e-01 7.1735856e-05]\n",
            " [9.8694152e-01 1.3058519e-02]\n",
            " [9.9964797e-01 3.5199203e-04]\n",
            " ...\n",
            " [9.9964654e-01 3.5341564e-04]\n",
            " [9.9937928e-01 6.2075391e-04]\n",
            " [9.9970382e-01 2.9617787e-04]]\n",
            "(1363, 2)\n"
          ]
        }
      ],
      "source": [
        "\n",
        "predictions = model.predict(x_test_new,  verbose=1)\n",
        "print (\"predicted images size :\",predictions.shape)\n",
        "print(predictions)\n",
        "print(Y_test_new.shape)"
      ]
    },
    {
      "cell_type": "code",
      "execution_count": null,
      "metadata": {
        "id": "zOnUn784ZZ_g",
        "colab": {
          "base_uri": "https://localhost:8080/"
        },
        "outputId": "645c0611-4ca7-4ccc-982f-fb385e3032f1"
      },
      "outputs": [
        {
          "output_type": "stream",
          "name": "stdout",
          "text": [
            "\n",
            "Confusion matrix:  Custom threshold (for positive) of 0.5\n",
            "[[1. 0.]\n",
            " [1. 0.]\n",
            " [1. 0.]\n",
            " ...\n",
            " [1. 0.]\n",
            " [1. 0.]\n",
            " [1. 0.]]\n",
            "[0. 0. 0. ... 0. 0. 0.]\n",
            "[0. 0. 0. ... 0. 0. 0.]\n",
            "[[1307    7]\n",
            " [  24   25]]\n"
          ]
        }
      ],
      "source": [
        "from sklearn.metrics import confusion_matrix,accuracy_score, precision_score, recall_score\n",
        "threshold_confusion = 0.5\n",
        "\n",
        "print (\"\\nConfusion matrix:  Custom threshold (for positive) of \" +str(threshold_confusion))\n",
        "y_pred = np.empty((predictions.shape[0]))\n",
        "y_test = np.empty((predictions.shape[0]))\n",
        "print(Y_test_new)\n",
        "for i in range(predictions.shape[0]):\n",
        "    #print(predictions[i])\n",
        "    y_pred[i]=np.argmax(predictions[i])\n",
        "    y_test[i]=np.argmax(Y_test_new[i])\n",
        "print(y_pred)\n",
        "print(y_test)  \n",
        "       \n",
        "confusion = confusion_matrix(y_test,  y_pred)\n",
        "\n",
        "print(confusion)"
      ]
    },
    {
      "cell_type": "code",
      "execution_count": null,
      "metadata": {
        "id": "gx7kf8whl54K"
      },
      "outputs": [],
      "source": [
        "numpy.savetxt(\"./y_pred_30.txt\",y_pred,delimiter=\" \",fmt='%f')"
      ]
    },
    {
      "cell_type": "code",
      "execution_count": null,
      "metadata": {
        "id": "wgyFMIIPcQAQ",
        "colab": {
          "base_uri": "https://localhost:8080/"
        },
        "outputId": "226a8616-9abf-4d4f-b807-c9fa1b59daf2"
      },
      "outputs": [
        {
          "output_type": "stream",
          "name": "stdout",
          "text": [
            "[[1307    7]\n",
            " [  24   25]]\n",
            "The accuracy score on this random test-set is  : 0.9772560528246516\n",
            "recall [0.99467275 0.51020408] the avreage recall is  0.7524384182896904\n",
            "precision [0.98196844 0.78125   ] the avreage precision is  0.881609222389181\n",
            "F1_score 0.8119183704687155\n"
          ]
        }
      ],
      "source": [
        "print (confusion)\n",
        "print(\"The accuracy score on this random test-set is  :\", accuracy_score(y_test,  y_pred) )\n",
        "recall=recall_score(y_test,  y_pred, average=None)\n",
        "av_recall=sum(recall)/2\n",
        "print(\"recall\",recall, \"the avreage recall is \",av_recall)\n",
        "precision=precision_score(y_test,  y_pred,average=None)\n",
        "av_precision=sum(precision)/2\n",
        "\n",
        "print(\"precision\",precision,\"the avreage precision is \",av_precision)\n",
        "\n",
        "F1_score=(2*av_precision*av_recall)/(av_precision+av_recall)\n",
        "print(\"F1_score\",F1_score)"
      ]
    },
    {
      "cell_type": "code",
      "execution_count": null,
      "metadata": {
        "id": "40hRW8Philuz",
        "colab": {
          "base_uri": "https://localhost:8080/"
        },
        "outputId": "1016d2cf-6430-4705-b21d-a632b3e74567"
      },
      "outputs": [
        {
          "output_type": "stream",
          "name": "stdout",
          "text": [
            "43/43 - 0s - 130ms/epoch - 3ms/step\n",
            "predicted images size : (1363, 2)\n",
            "[[9.9991262e-01 8.7369262e-05]\n",
            " [8.2988113e-01 1.7011888e-01]\n",
            " [9.9961144e-01 3.8863774e-04]\n",
            " ...\n",
            " [9.9787438e-01 2.1256024e-03]\n",
            " [9.9752074e-01 2.4792571e-03]\n",
            " [9.9764913e-01 2.3508475e-03]]\n",
            "(1363, 2)\n",
            "[0. 0. 0. ... 0. 0. 0.]\n",
            "\n",
            "Confusion matrix:  Custom threshold (for positive) of 0.2\n",
            "[0. 0. 0. ... 0. 0. 0.]\n",
            "[[1308    6]\n",
            " [  22   27]]\n",
            "The accuracy score on this random test-set is  : 0.979457079970653\n",
            "recall [0.99543379 0.55102041] the avreage recall is  0.7732270990588015\n",
            "precision [0.98345865 0.81818182] the avreage precision is  0.9008202323991799\n",
            "F1_score 0.8321611963800992\n"
          ]
        }
      ],
      "source": [
        "model.load_weights('./_best_weights.h5')\n",
        "predictions = model.predict(x_test_new, batch_size=32, verbose=2)\n",
        "print (\"predicted images size :\",predictions.shape)\n",
        "print(predictions)\n",
        "print(Y_test_new.shape)\n",
        "from sklearn.metrics import confusion_matrix,accuracy_score, precision_score, recall_score\n",
        "threshold_confusion = 0.2\n",
        "print(y_test)\n",
        "print (\"\\nConfusion matrix:  Custom threshold (for positive) of \" +str(threshold_confusion))\n",
        "y_pred = np.empty((predictions.shape[0]))\n",
        "y_test = np.empty((predictions.shape[0]))\n",
        "for i in range(predictions.shape[0]):\n",
        "    \n",
        "    y_pred[i]=np.argmax(predictions[i])\n",
        "    y_test[i]=np.argmax(Y_test_new[i])\n",
        "#print(y_pred)\n",
        "print(y_test)  \n",
        "       \n",
        "confusion = confusion_matrix(y_test,  y_pred)\n",
        "print (confusion)\n",
        "print(\"The accuracy score on this random test-set is  :\", accuracy_score(y_test,  y_pred) )\n",
        "recall=recall_score(y_test,  y_pred, average=None)\n",
        "av_recall=sum(recall)/2\n",
        "print(\"recall\",recall, \"the avreage recall is \",av_recall)\n",
        "precision=precision_score(y_test,  y_pred,average=None)\n",
        "av_precision=sum(precision)/2\n",
        "\n",
        "print(\"precision\",precision,\"the avreage precision is \",av_precision)\n",
        "\n",
        "F1_score=(2*av_precision*av_recall)/(av_precision+av_recall)\n",
        "print(\"F1_score\",F1_score)"
      ]
    },
    {
      "cell_type": "code",
      "source": [
        "predictions_all = model.predict(x_train_test, batch_size=32, verbose=2)\n",
        "print (\"predicted images size :\",predictions_all.shape)\n",
        "print(predictions_all)\n",
        "\n",
        "from sklearn.metrics import confusion_matrix,accuracy_score, precision_score, recall_score\n",
        "threshold_confusion = 0.2\n",
        "\n",
        "y_pred_all = np.empty((predictions_all.shape[0]))\n",
        "#y_test_all = np.empty((predictions_all.shape[0]))\n",
        "for i in range(predictions_all.shape[0]):\n",
        "    \n",
        "    y_pred_all[i]=np.argmax(predictions_all[i])\n",
        "#    y_test_all[i]=np.argmax( dataset_output_new[i])\n",
        "#print(y_pred)\n",
        " \n",
        "plt.figure(figsize=(9, 7), dpi=300)\n",
        "plt.xlim(3100, 3300)\n",
        "plt.xticks (range(3100,3300,10))\n",
        "\n",
        "plt.subplot(2, 1,1)\n",
        "\n",
        "plt.scatter(range(3100,3300),dataset_output_new[3100:3300],0.1)\n",
        "\n",
        "\n",
        "#plt.figure(figsize=(9, 7), dpi=100)\n",
        "plt.subplot(2, 1,2)\n",
        "\n",
        "plt.scatter(range(3100,3300),y_pred_all[3100:3300],0.1)\n",
        "\n",
        "plt.show()"
      ],
      "metadata": {
        "colab": {
          "base_uri": "https://localhost:8080/",
          "height": 1000
        },
        "id": "HOaAEA0jGhMN",
        "outputId": "4c7c39de-47dc-4ba2-aa02-2fa1b1cbe4ca"
      },
      "execution_count": null,
      "outputs": [
        {
          "output_type": "stream",
          "name": "stdout",
          "text": [
            "426/426 - 1s - 1s/epoch - 2ms/step\n",
            "predicted images size : (13623, 2)\n",
            "[[9.9848914e-01 1.5108451e-03]\n",
            " [9.9961013e-01 3.8993717e-04]\n",
            " [9.9827921e-01 1.7208117e-03]\n",
            " ...\n",
            " [9.3391705e-01 6.6083029e-02]\n",
            " [9.2725241e-01 7.2747603e-02]\n",
            " [9.2919379e-01 7.0806220e-02]]\n"
          ]
        },
        {
          "output_type": "display_data",
          "data": {
            "text/plain": [
              "<Figure size 2700x2100 with 2 Axes>"
            ],
            "image/png": "[encoded data removed]"
          },
          "metadata": {
            "needs_background": "light"
          }
        }
      ]
    },
    {
      "cell_type": "code",
      "source": [
        "#Model Evaluation :\n",
        "#-------------------------------\n",
        "\n",
        "def evaluate(classifier,X,y):\n",
        "    \n",
        "    \n",
        "    \"\"\"\n",
        "    from sklearn.model_selection import cross_val_score\n",
        "    #calculating cross validated accuracy\n",
        "    scores = cross_val_score(classifier, X, y, cv=10, scoring='accuracy')\n",
        "    cross_validated_accuracy = scores.mean()\n",
        "    print('Cross validation score: %.2f%%  plus or minus(%.2f)'% (scores.mean()*100, scores.std()*100))\n",
        "    print('-----------------------------------------------------------')\n",
        "    print(\"Evaluating the classifier on a random split of the data :\")\n",
        "\n",
        "    \n",
        "    from sklearn.model_selection import train_test_split\n",
        "    X_train, X_test, y_train, y_test = train_test_split(X, y, random_state=0)  \n",
        "    classifier.fit(X_train, y_train)\n",
        "    \"\"\"\n",
        "    y_pred_class = classifier.predict(X)\n",
        "    \n",
        "    from sklearn.metrics import accuracy_score\n",
        "    overall_accuracy = accuracy_score(y,y_pred_class,)\n",
        "    \n",
        "    # calculate the confusion mtatrix\n",
        "    from sklearn import metrics\n",
        "    P = metrics.confusion_matrix(y, y_pred_class)\n",
        "    print(P)\n",
        "\n",
        "    print(\"The accuracy score on this random test-set is  :\", accuracy_score(y,  y_pred_class) )\n",
        "    recall=recall_score(y,  y_pred_class, average=None)\n",
        "    av_recall=sum(recall)/2\n",
        "    print(\"recall\",recall, \"the avreage recall is \",av_recall)\n",
        "    precision=precision_score(y,  y_pred_class,average=None)\n",
        "    av_precision=sum(precision)/2\n",
        "\n",
        "    print(\"precision\",precision,\"the avreage precision is \",av_precision)\n",
        "\n",
        "    F1_score=(2*av_precision*av_recall)/(av_precision+av_recall)\n",
        "    print(\"F1_score\",F1_score)\n",
        "    \n",
        "    \n",
        "    print(\"########################The accuracy score on this random test-set is  :\"+ str(round(overall_accuracy,2)*100) + \"%\")\n",
        "\n",
        "\n",
        "    #Class 0\n",
        "    TP0 = P[0][0] #True Positives (0 is predicted)\n",
        "    TN0 = P[1][1] + P[2][1] + P[1][2] + P[2][2] #True Negatives (it's not 0 and it predicted 1 or 2)\n",
        "    FP0 = P[0][1] + P[0][2] #False Positive (it is not 0 and it predicted 0)\n",
        "    FN0 = P[1][0] + P[2][0] #False (it is 0 and it predicted 1 or 2 )\n",
        "\n",
        "    #Precision :\n",
        "    #Precision is a multi-class confusion matrix is the measure of the accuracy relative to the prediction of a specific class. \n",
        "    Precision0 = TP0/(TP0+FP0)\n",
        "\n",
        "    #Recall or Sensitivity : True Positive Rate\n",
        "    #Sensitivity (True Positive rate) measures the proportion of positives that are correctly identified (i.e. the proportion of those who have some condition (affected) who are correctly identified as having the condition).\n",
        "    Recall0 = TP0 / (TP0+FN0)\n",
        "\n",
        "    #Specificity : True Negative Rate\n",
        "    #Specificity (True Negative rate) measures the proportion of negatives that are correctly identified (i.e. the proportion of those who do not have the condition (unaffected) who are correctly identified as not having the condition).\n",
        "    Specificity0 = TN0 / (TN0+FP0)\n",
        "\n",
        "    F1_score0=(2*Precision0*Recall0)/(Precision0+Recall0)\n",
        "\n",
        "    #-------------------------------\n",
        "\n",
        "    # Class 1 :\n",
        "    TP1 = P[1][1] #True Positives\n",
        "    TN1 = P[0][0] + P[2][0] + P[0][2] + P[2][2] #True Negatives\n",
        "    FP1 = P[1][0] + P[1][2] #False Positive\n",
        "    FN1 = P[0][1] + P[2][1] #False Negative\n",
        "\n",
        "    #Precision is a multi-class confusion matrix is the measure of the accuracy relative to the prediction of a specific class. \n",
        "    Precision1 = TP1/(TP1+FP1)\n",
        "\n",
        "    #Recall or Sensitivity : True Positive Rate\n",
        "    #Sensitivity (True Positive rate) measures the proportion of positives that are correctly identified (i.e. the proportion of those who have some condition (affected) who are correctly identified as having the condition).\n",
        "    Recall1 = TP1 / (TP1+FN1)\n",
        "\n",
        "    #Specificity : True Negative Rate\n",
        "    #Specificity (True Negative rate) measures the proportion of negatives that are correctly identified (i.e. the proportion of those who do not have the condition (unaffected) who are correctly identified as not having the condition).\n",
        "    Specificity1 = TN1 / (TN1+FP1)\n",
        "\n",
        "    F1_score1=(2*Precision1*Recall1)/(Precision1+Recall1)  \n",
        "\n",
        "    #-------------------------------\n",
        "\n",
        "    # Class 2 :\n",
        "    TP2 = P[2][2] #True Positives\n",
        "    TN2 = P[0][0] + P[1][0] + P[1][1] + P[0][1] #True Negatives\n",
        "    FP2 = P[2][0] + P[2][1] #False positive  (it is not 0 and it predict 0)\n",
        "    FN2 = P[0][2] + P[1][2] #False Negative\n",
        "\n",
        "    #Precision is a multi-class confusion matrix is the measure of the accuracy relative to the prediction of a specific class. \n",
        "    Precision2 = TP2/(TP2+FP2)\n",
        "\n",
        "    #Recall or Sensitivity : True Positive Rate\n",
        "    #Sensitivity (True Positive rate) measures the proportion of positives that are correctly identified (i.e. the proportion of those who have some condition (affected) who are correctly identified as having the condition).\n",
        "    Recall2 = TP2 / (TP2+FN2)\n",
        "\n",
        "    #Specificity : True Negative Rate\n",
        "    #Specificity (True Negative rate) measures the proportion of negatives that are correctly identified (i.e. the proportion of those who do not have the condition (unaffected) who are correctly identified as not having the condition).\n",
        "    Specificity2 = TN2 / (TN2+FP2)\n",
        "\n",
        "    F1_score2=(2*Precision2*Recall2)/(Precision2+Recall2)\n",
        "    \n",
        "    #Plotting the results :\n",
        "    #Plotting The Confusion Matrix\n",
        "    from sklearn.metrics import plot_confusion_matrix\n",
        "    plot_confusion_matrix(classifier,\n",
        "                      X,\n",
        "                      y,\n",
        "                      values_format='d',\n",
        "                      display_labels=[\"0\",\"1\",\"2\"]\n",
        "                     )\n",
        "    \n",
        "    \n",
        "    #Plotting the score for the metrics for each class\n",
        "    \n",
        "    \n",
        "    import numpy as np\n",
        "    import matplotlib.pyplot as plt\n",
        "\n",
        "    N = 3\n",
        "    recall = np.around(np.array((Recall0,Recall1,Recall2))*100, decimals=2)\n",
        "    F1_score=np.around(np.array((F1_score0,F1_score1,F1_score2))*100, decimals=2)\n",
        "    ind = np.arange(N)  # the x locations for the groups\n",
        "    width = 0.2       # the width of the bars\n",
        "\n",
        "    fig, ax = plt.subplots(figsize=(10,5))\n",
        "    rects1 = ax.bar(ind, recall, width, color='r')\n",
        "    av_recall=sum(recall)/2\n",
        "    print(\"recall\",recall, \"the avreage recall is \",av_recall)\n",
        "    \n",
        "    precision  = np.around(np.array((Precision0,Precision1,Precision2))*100, decimals=2)\n",
        "    \n",
        "    \n",
        "    rects2 = ax.bar(ind + width, precision, width, color='g')\n",
        "    av_precision=sum(precision)/2\n",
        "    print(\"precision\",precision,\"the avreage precision is \",av_precision)\n",
        "    specificity   = np.around(np.array((Specificity0,Specificity1,Specificity2))*100, decimals=2)\n",
        "    rects3 = ax.bar(ind + 2*width, specificity, width, color='y')\n",
        "    av_specificity=sum(specificity)/2\n",
        "    print(\"specificity\",specificity,\"the avreage specificity is \",av_specificity)\n",
        "    \n",
        "    av_F1_score=(sum(F1_score)/2)\n",
        "    print(\"F1_score\",F1_score,\"the avreage F1_score is \",av_F1_score)\n",
        "    # add some text for labels, title and axes ticks\n",
        "    ax.set_ylabel('Metrics (%)')\n",
        "    ax.set_title('Model Evaluation')\n",
        "    ax.set_xticks(ind + width / 2)\n",
        "    ax.set_xticklabels(('Output_Value_0', 'Output_Value_1', 'Output_Value_2'))\n",
        "    \n",
        "    \n",
        "    ax.legend((rects1[0], rects2[0],rects3[0]), ('Recall', 'Precision','Specificity'),loc=(1.05, 0.5),prop={\"size\":15})\n",
        "    \n",
        "    \"\"\"\n",
        "    ax.bar_label(rects1, padding=-40)\n",
        "    ax.bar_label(rects2, padding=-40)\n",
        "    ax.bar_label(rects3, padding=-40)\n",
        "    \"\"\"\n",
        "    \n",
        "   \n",
        "    plt.show()\n",
        "evaluate(model,x_test_new,y_test)   \n",
        "\n",
        "    "
      ],
      "metadata": {
        "colab": {
          "base_uri": "https://localhost:8080/",
          "height": 380
        },
        "id": "jYsxFGKBExKg",
        "outputId": "e7cf7b15-f01e-4425-8484-be39da922098"
      },
      "execution_count": null,
      "outputs": [
        {
          "output_type": "error",
          "ename": "ValueError",
          "evalue": "ignored",
          "traceback": [
            "\u001b[0;31m---------------------------------------------------------------------------\u001b[0m",
            "\u001b[0;31mValueError\u001b[0m                                Traceback (most recent call last)",
            "\u001b[0;32m<ipython-input-74-e8695de81813>\u001b[0m in \u001b[0;36m<module>\u001b[0;34m()\u001b[0m\n\u001b[1;32m    165\u001b[0m \u001b[0;34m\u001b[0m\u001b[0m\n\u001b[1;32m    166\u001b[0m     \u001b[0mplt\u001b[0m\u001b[0;34m.\u001b[0m\u001b[0mshow\u001b[0m\u001b[0;34m(\u001b[0m\u001b[0;34m)\u001b[0m\u001b[0;34m\u001b[0m\u001b[0;34m\u001b[0m\u001b[0m\n\u001b[0;32m--> 167\u001b[0;31m \u001b[0mevaluate\u001b[0m\u001b[0;34m(\u001b[0m\u001b[0mmodel\u001b[0m\u001b[0;34m,\u001b[0m\u001b[0mx_test_new\u001b[0m\u001b[0;34m,\u001b[0m\u001b[0my_test\u001b[0m\u001b[0;34m)\u001b[0m\u001b[0;34m\u001b[0m\u001b[0;34m\u001b[0m\u001b[0m\n\u001b[0m\u001b[1;32m    168\u001b[0m \u001b[0;34m\u001b[0m\u001b[0m\n\u001b[1;32m    169\u001b[0m \u001b[0;34m\u001b[0m\u001b[0m\n",
            "\u001b[0;32m<ipython-input-74-e8695de81813>\u001b[0m in \u001b[0;36mevaluate\u001b[0;34m(classifier, X, y)\u001b[0m\n\u001b[1;32m     22\u001b[0m \u001b[0;34m\u001b[0m\u001b[0m\n\u001b[1;32m     23\u001b[0m     \u001b[0;32mfrom\u001b[0m \u001b[0msklearn\u001b[0m\u001b[0;34m.\u001b[0m\u001b[0mmetrics\u001b[0m \u001b[0;32mimport\u001b[0m \u001b[0maccuracy_score\u001b[0m\u001b[0;34m\u001b[0m\u001b[0;34m\u001b[0m\u001b[0m\n\u001b[0;32m---> 24\u001b[0;31m     \u001b[0moverall_accuracy\u001b[0m \u001b[0;34m=\u001b[0m \u001b[0maccuracy_score\u001b[0m\u001b[0;34m(\u001b[0m\u001b[0my\u001b[0m\u001b[0;34m,\u001b[0m\u001b[0my_pred_class\u001b[0m\u001b[0;34m,\u001b[0m\u001b[0;34m)\u001b[0m\u001b[0;34m\u001b[0m\u001b[0;34m\u001b[0m\u001b[0m\n\u001b[0m\u001b[1;32m     25\u001b[0m \u001b[0;34m\u001b[0m\u001b[0m\n\u001b[1;32m     26\u001b[0m     \u001b[0;31m# calculate the confusion mtatrix\u001b[0m\u001b[0;34m\u001b[0m\u001b[0;34m\u001b[0m\u001b[0;34m\u001b[0m\u001b[0m\n",
            "\u001b[0;32m/usr/local/lib/python3.7/dist-packages/sklearn/metrics/_classification.py\u001b[0m in \u001b[0;36maccuracy_score\u001b[0;34m(y_true, y_pred, normalize, sample_weight)\u001b[0m\n\u001b[1;32m    209\u001b[0m \u001b[0;34m\u001b[0m\u001b[0m\n\u001b[1;32m    210\u001b[0m     \u001b[0;31m# Compute accuracy for each possible representation\u001b[0m\u001b[0;34m\u001b[0m\u001b[0;34m\u001b[0m\u001b[0;34m\u001b[0m\u001b[0m\n\u001b[0;32m--> 211\u001b[0;31m     \u001b[0my_type\u001b[0m\u001b[0;34m,\u001b[0m \u001b[0my_true\u001b[0m\u001b[0;34m,\u001b[0m \u001b[0my_pred\u001b[0m \u001b[0;34m=\u001b[0m \u001b[0m_check_targets\u001b[0m\u001b[0;34m(\u001b[0m\u001b[0my_true\u001b[0m\u001b[0;34m,\u001b[0m \u001b[0my_pred\u001b[0m\u001b[0;34m)\u001b[0m\u001b[0;34m\u001b[0m\u001b[0;34m\u001b[0m\u001b[0m\n\u001b[0m\u001b[1;32m    212\u001b[0m     \u001b[0mcheck_consistent_length\u001b[0m\u001b[0;34m(\u001b[0m\u001b[0my_true\u001b[0m\u001b[0;34m,\u001b[0m \u001b[0my_pred\u001b[0m\u001b[0;34m,\u001b[0m \u001b[0msample_weight\u001b[0m\u001b[0;34m)\u001b[0m\u001b[0;34m\u001b[0m\u001b[0;34m\u001b[0m\u001b[0m\n\u001b[1;32m    213\u001b[0m     \u001b[0;32mif\u001b[0m \u001b[0my_type\u001b[0m\u001b[0;34m.\u001b[0m\u001b[0mstartswith\u001b[0m\u001b[0;34m(\u001b[0m\u001b[0;34m\"multilabel\"\u001b[0m\u001b[0;34m)\u001b[0m\u001b[0;34m:\u001b[0m\u001b[0;34m\u001b[0m\u001b[0;34m\u001b[0m\u001b[0m\n",
            "\u001b[0;32m/usr/local/lib/python3.7/dist-packages/sklearn/metrics/_classification.py\u001b[0m in \u001b[0;36m_check_targets\u001b[0;34m(y_true, y_pred)\u001b[0m\n\u001b[1;32m     93\u001b[0m         raise ValueError(\n\u001b[1;32m     94\u001b[0m             \"Classification metrics can't handle a mix of {0} and {1} targets\".format(\n\u001b[0;32m---> 95\u001b[0;31m                 \u001b[0mtype_true\u001b[0m\u001b[0;34m,\u001b[0m \u001b[0mtype_pred\u001b[0m\u001b[0;34m\u001b[0m\u001b[0;34m\u001b[0m\u001b[0m\n\u001b[0m\u001b[1;32m     96\u001b[0m             )\n\u001b[1;32m     97\u001b[0m         )\n",
            "\u001b[0;31mValueError\u001b[0m: Classification metrics can't handle a mix of binary and continuous-multioutput targets"
          ]
        }
      ]
    },
    {
      "cell_type": "code",
      "execution_count": null,
      "metadata": {
        "id": "0_B6tLCZiuxm"
      },
      "outputs": [],
      "source": [
        "z=[]\n",
        "for i in range(len(y_pred_all)):\n",
        "    if(y_pred_all[i][0]==1):\n",
        "        z.append(i)\n",
        "print(z)"
      ]
    },
    {
      "cell_type": "code",
      "execution_count": null,
      "metadata": {
        "id": "CM74mlnSiQnB"
      },
      "outputs": [],
      "source": [
        "d=[63,2025]\n",
        "chb=[1864, 5763]\n",
        "d=numpy.array(d)\n",
        "chb=numpy.array(chb)\n",
        "rs=[]\n",
        "for l in range (2025,5763):\n",
        "  if((y_pred_all[l][0]==1) and (y_pred_all[l+1][0]==1) and (y_pred_all[l+2][0]==1)):\n",
        "    rs.append(l)\n",
        "    continue\n",
        "  \n",
        "\n",
        "print(rs)\n",
        "k=5763-2264\n",
        "\n",
        "print(\"the duration before seizure in min is\", (k*2)/60)"
      ]
    },
    {
      "cell_type": "code",
      "execution_count": null,
      "metadata": {
        "id": "4s8392wqoF7I"
      },
      "outputs": [],
      "source": [
        "dataset_output= pd.read_csv(\"./y_chb\"+ch+\"_15min.txt\",delimiter=\" \",header=None)\n",
        "dataset_output=numpy.array(dataset_output,float)\n",
        "dataset_output_new= dataset_output.reshape(dataset_output.shape[0], )"
      ]
    },
    {
      "cell_type": "code",
      "execution_count": null,
      "metadata": {
        "id": "admghtBL_0pr"
      },
      "outputs": [],
      "source": [
        "print(dataset_output_new)"
      ]
    },
    {
      "cell_type": "code",
      "execution_count": null,
      "metadata": {
        "id": "9ZyQ5sCqoKhd"
      },
      "outputs": [],
      "source": [
        "x_train, x_test, y_train, y_test = train_test_split(x_train_test, dataset_output_new, test_size=0.2, random_state=42)"
      ]
    },
    {
      "cell_type": "code",
      "execution_count": null,
      "metadata": {
        "id": "uJV_HGlZukg3"
      },
      "outputs": [],
      "source": [
        "x_train_new=x_train\n",
        "x_test_new=x_test"
      ]
    },
    {
      "cell_type": "code",
      "execution_count": null,
      "metadata": {
        "id": "Q4umbBC1-xoi"
      },
      "outputs": [],
      "source": [
        "print(y_test)"
      ]
    },
    {
      "cell_type": "code",
      "execution_count": null,
      "metadata": {
        "id": "rJq3wqVZogBe"
      },
      "outputs": [],
      "source": [
        "Y_train_new = tensorflow.keras.utils.to_categorical( y_train)\n",
        "Y_test_new = tensorflow.keras.utils.to_categorical(y_test)\n",
        "print(Y_train_new.shape)"
      ]
    },
    {
      "cell_type": "code",
      "execution_count": null,
      "metadata": {
        "id": "uuEvdQ2-JgeF"
      },
      "outputs": [],
      "source": [
        "model = Sequential()\n",
        "model.add(Conv1D(32, kernel_size=3,\n",
        "                 activation='relu',data_format=\"channels_last\",padding='same',\n",
        "                 input_shape=(7,2)))\n",
        "model.add(BatchNormalization())\n",
        "model.add(Conv1D(64, 3, activation='relu',padding='same'))\n",
        "\n",
        "model.add(BatchNormalization())\n",
        "model.add(Conv1D(128, 3, activation='relu',padding='same'))\n",
        "\n",
        "model.add(MaxPooling1D(pool_size=2,strides=True))\n",
        "model.add(Dropout(0.3))#0.1\n",
        "model.add(Conv1D(512, 3, activation='relu',padding='same'))\n",
        "model.add(MaxPooling1D(pool_size=2,strides=None))\n",
        "model.add(Dropout(0.4))#0.1\n",
        "\n",
        "model.add(Flatten()) # Flatten is the input layer of the Fully Connected\n",
        "model.add(Dense(100, activation='relu')) # gets input size from flatten\n",
        "model.add(BatchNormalization())\n",
        "model.add(Dropout(0.4))#0.2\n",
        "model.add(Dense(2, activation='softmax',kernel_regularizer=regularizers.l2(0.001)))\n",
        "model.compile(loss=tensorflow.keras.losses.categorical_crossentropy,\n",
        "              optimizer=tensorflow.keras.optimizers.Adam(),\n",
        "              metrics=['accuracy'])"
      ]
    },
    {
      "cell_type": "code",
      "execution_count": null,
      "metadata": {
        "id": "9Uh6dHbKmonA"
      },
      "outputs": [],
      "source": [
        "checkpointer = ModelCheckpoint(filepath='./'+'_best_weights_1h.h5', verbose=1, monitor='val_loss', mode='auto', save_best_only=True) #save at each epoch if the validation decreased\n",
        "\n",
        "history =model.fit(x_train_new, Y_train_new, epochs=100, batch_size=512, verbose=1, validation_split=0.15, callbacks=[checkpointer])\n",
        "\n",
        "model.save('weights_cnn2_t1_1h.h5')"
      ]
    },
    {
      "cell_type": "code",
      "execution_count": null,
      "metadata": {
        "id": "s-wjq8rbmtHU"
      },
      "outputs": [],
      "source": [
        "score = model.evaluate(x_test_new, Y_test_new, verbose=1)\n",
        "print('Test loss:', score[0])\n",
        "print('Test accuracy:', score[1])\n",
        "import matplotlib.pyplot as plt # shorcut for a plot function\n",
        "plt.plot(history.history['accuracy']) # training accuracy\n",
        "plt.plot(history.history['val_accuracy']) # validation accuracy\n",
        "plt.title('model accuracy')\n",
        "plt.ylabel('accuracy')\n",
        "plt.xlabel('epoch')\n",
        "plt.legend(['train', 'test'], loc='upper left')\n",
        "plt.show()\n",
        "plt.plot(history.history['loss'])\n",
        "plt.plot(history.history['val_loss'])\n",
        "plt.title('model loss')\n",
        "plt.ylabel('loss')\n",
        "plt.xlabel('epoch')\n",
        "plt.legend(['train', 'test'], loc='upper left')\n",
        "plt.show()\n",
        "predictions_1h = model.predict(x_test_new, batch_size=32, verbose=2)\n",
        "\n",
        "print (\"predicted images size :\",predictions_1h.shape)\n",
        "print(predictions_1h)\n",
        "print(Y_test_new.shape)\n",
        "from sklearn.metrics import confusion_matrix,accuracy_score, precision_score, recall_score\n",
        "threshold_confusion = 0.5\n",
        "print(y_test)\n",
        "print (\"\\nConfusion matrix:  Custom threshold (for positive) of \" +str(threshold_confusion))\n",
        "y_pred_1h = np.empty((predictions_1h.shape[0]))\n",
        "y_test = np.empty((predictions_1h.shape[0]))\n",
        "for i in range(predictions_1h.shape[0]):\n",
        "    \n",
        "    y_pred_1h[i]=np.argmax(predictions_1h[i])\n",
        "    y_test[i]=np.argmax(Y_test_new[i])\n",
        "print(y_pred_1h)\n",
        "\"\"\"  \n",
        "for i in range (0, len(y_pred_1h)):\n",
        "  if (y_pred_1h[i]==0):\n",
        "    y_pred_1h[i]=1\n",
        "  else: \n",
        "    y_pred_1h[i]=0\n",
        "\"\"\"\n",
        "print(y_test)\n",
        "confusion = confusion_matrix(y_test,  y_pred_1h)\n",
        "print (confusion)\n",
        "numpy.savetxt(\"./y_pred_1h.txt\",y_pred_1h,delimiter=\" \",fmt='%f')\n",
        "print(\"The accuracy score on this random test-set is  :\", accuracy_score(y_test,  y_pred_1h) )\n",
        "\n",
        "recall=recall_score(y_test,  y_pred_1h, average=None)\n",
        "av_recall=sum(recall)/2\n",
        "print(\"recall\",recall, \"the avreage recall is \",av_recall)\n",
        "precision=precision_score(y_test,  y_pred_1h,average=None)\n",
        "av_precision=sum(precision)/2\n",
        "\n",
        "print(\"precision\",precision,\"the avreage precision is \",av_precision)\n",
        "\n",
        "F1_score=(2*av_precision*av_recall)/(av_precision+av_recall)\n",
        "print(\"F1_score\",F1_score)"
      ]
    },
    {
      "cell_type": "code",
      "execution_count": null,
      "metadata": {
        "id": "Fbnjq3Gu0My_"
      },
      "outputs": [],
      "source": [
        "predictions_all = model.predict(x_train_test, batch_size=32, verbose=2)\n",
        "print (\"predicted images size :\",predictions_all.shape)\n",
        "print(predictions_all)\n"
      ]
    },
    {
      "cell_type": "code",
      "execution_count": null,
      "metadata": {
        "id": "17Z3Bq9H1lgk"
      },
      "outputs": [],
      "source": [
        "y_pred_all=predictions_all\n",
        "\n",
        "for i in range(predictions_all.shape[0]):\n",
        "    \n",
        "    y_pred_all[i]=np.argmax(predictions_all[i])\n",
        "print(y_pred_all)"
      ]
    },
    {
      "cell_type": "code",
      "execution_count": null,
      "metadata": {
        "id": "WKMghsRJ1wmq"
      },
      "outputs": [],
      "source": [
        "z=[]\n",
        "for i in range(len(y_pred_all)):\n",
        "    if(y_pred_all[i][0]==1):\n",
        "        z.append(i)\n",
        "print(z)"
      ]
    },
    {
      "cell_type": "code",
      "execution_count": null,
      "metadata": {
        "id": "oiWP6U__H-2k"
      },
      "outputs": [],
      "source": [
        "predictions_all = model.predict(x_train_test, batch_size=32, verbose=2)\n",
        "print (\"predicted images size :\",predictions_all.shape)\n",
        "print(predictions_all)"
      ]
    },
    {
      "cell_type": "code",
      "execution_count": null,
      "metadata": {
        "id": "WNwc58Pe25yo"
      },
      "outputs": [],
      "source": [
        "d=[67,2025]\n",
        "chb=[3297, 6265, 9859, 13530]\n",
        "d=numpy.array(d)\n",
        "chb=numpy.array(chb)\n",
        "rs=[]\n",
        "for l in range (67,1864):\n",
        "  if((y_pred_all[l][0]==1) and (y_pred_all[l+1][0]==1) and (y_pred_all[l+2][0]==1)):\n",
        "    rs.append(l)\n",
        "    continue\n",
        "  \n",
        "\n",
        "print(rs)\n",
        "k=1864-68\n",
        "\n",
        "print(\"the duration before seizure in min is\", (k*2)/60)"
      ]
    }
  ],
  "metadata": {
    "accelerator": "GPU",
    "colab": {
      "provenance": []
    },
    "kernelspec": {
      "display_name": "Python 3",
      "language": "python",
      "name": "python3"
    },
    "language_info": {
      "codemirror_mode": {
        "name": "ipython",
        "version": 3
      },
      "file_extension": ".py",
      "mimetype": "text/x-python",
      "name": "python",
      "nbconvert_exporter": "python",
      "pygments_lexer": "ipython3",
      "version": "3.8.8"
    },
    "gpuClass": "standard"
  },
  "nbformat": 4,
  "nbformat_minor": 0
}